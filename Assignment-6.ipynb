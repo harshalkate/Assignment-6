{
 "cells": [
  {
   "cell_type": "markdown",
   "id": "4a7fbf9d",
   "metadata": {},
   "source": [
    "Q.1. What are keywords in python? Using the keyword library, print all the python keywords."
   ]
  },
  {
   "cell_type": "code",
   "execution_count": 1,
   "id": "c306da2b",
   "metadata": {},
   "outputs": [
    {
     "name": "stdout",
     "output_type": "stream",
     "text": [
      "the list of keyword : \n",
      "['False', 'None', 'True', 'and', 'as', 'assert', 'async', 'await', 'break', 'class', 'continue', 'def', 'del', 'elif', 'else', 'except', 'finally', 'for', 'from', 'global', 'if', 'import', 'in', 'is', 'lambda', 'nonlocal', 'not', 'or', 'pass', 'raise', 'return', 'try', 'while', 'with', 'yield']\n"
     ]
    }
   ],
   "source": [
    "#Ans:Q1\n",
    "import keyword\n",
    "print(\"the list of keyword : \")\n",
    "print(keyword.kwlist)"
   ]
  },
  {
   "cell_type": "markdown",
   "id": "c344fa5f",
   "metadata": {},
   "source": [
    "Q.2. What are the rules to create variables in python?\n",
    "\n",
    "Ans:A variable can have a short name (like x and y) or a more descriptive name (carname, total_volume). \n",
    "Rules for Python variables are as follow:\n",
    "A variable name must start with a letter or the underscore character.\n",
    "A variable name cannot start with a number.\n",
    "A variable name can only contain alpha-numeric characters and underscores (A-z, 0-9, and _ ).\n",
    "Variable names are case-sensitive.\n",
    "A variable name cannot be any of the Python keywords.\n",
    "These are rules to create variable in python."
   ]
  },
  {
   "cell_type": "markdown",
   "id": "b5a05dda",
   "metadata": {},
   "source": [
    "Q.3. What are the standards and conventions followed for the nomenclature of variables in\n",
    "python to improve code readability and maintainability?\n",
    "\n",
    "Ans:Python variable names typically follow the Camel Case convention. In Camel Case, variable names start with a lowercase letter, and subsequent words are capitalized and also a variable name must start with a letter or the underscore character."
   ]
  },
  {
   "cell_type": "markdown",
   "id": "542d5e93",
   "metadata": {},
   "source": [
    "Q.4. What will happen if a keyword is used as a variable name?\n",
    "Ans:so we cannot use them as variable names.It'll through a SyntaxError if we try to do that in python."
   ]
  },
  {
   "cell_type": "markdown",
   "id": "55b21fa0",
   "metadata": {},
   "source": [
    "Q.5. For what purpose def keyword is used?\n",
    "Ans: The def keyword is used to define a fuction or to create it."
   ]
  },
  {
   "cell_type": "markdown",
   "id": "47d3a31d",
   "metadata": {},
   "source": [
    "Q.6. What is the operation of this special character ‘\\’?\n",
    "Ans:\" \\ \" It is used as a escape character and its also help us to print in new line (or below).It allows you to include special characters in a string that would otherwise be difficult to represent directly.\n",
    "\n",
    "example:\n",
    "\n",
    "print(\"This is a newline \\n and this is a tab \\t.\")\n",
    "\n",
    "## the output of it\n",
    "\n",
    "This is a newline \n",
    " and this is a tab  .\n"
   ]
  },
  {
   "cell_type": "markdown",
   "id": "6cf2864d",
   "metadata": {},
   "source": [
    "Q.7. Give an example of the following conditions:\n",
    "(i) Homogeneous list :\n",
    "(ii) Heterogeneous set : set_1 ={1,'SET',3.0,(4,5)}\n",
    "(iii) Homogeneous tuple "
   ]
  },
  {
   "cell_type": "code",
   "execution_count": 4,
   "id": "9b7cc240",
   "metadata": {},
   "outputs": [
    {
     "name": "stdout",
     "output_type": "stream",
     "text": [
      "[1, 2, 3, 4, 5]\n"
     ]
    }
   ],
   "source": [
    "#i) Homogeneous list\n",
    "my_list = [1,2,3,4,5]\n",
    "print(my_list)"
   ]
  },
  {
   "cell_type": "code",
   "execution_count": 3,
   "id": "af879e66",
   "metadata": {},
   "outputs": [
    {
     "name": "stdout",
     "output_type": "stream",
     "text": [
      "{1, (4, 5), 3.0, 'SET'}\n"
     ]
    }
   ],
   "source": [
    "#(ii) Heterogeneous set :\n",
    "set_1 ={1,'SET',3.0,(4,5)}\n",
    "\n",
    "print(set_1)"
   ]
  },
  {
   "cell_type": "code",
   "execution_count": 5,
   "id": "5aa70bc5",
   "metadata": {},
   "outputs": [
    {
     "name": "stdout",
     "output_type": "stream",
     "text": [
      "(1, 2, 3, 4, 5, 6, 7, 8)\n"
     ]
    }
   ],
   "source": [
    "#(iii) Homogeneous tuple\n",
    "my_tuple = (1,2,3,4,5,6,7,8)\n",
    "print(my_tuple)"
   ]
  },
  {
   "cell_type": "markdown",
   "id": "b56bc2e0",
   "metadata": {},
   "source": [
    "Q.8. Explain the mutable and immutable data types with proper explanation & examples."
   ]
  },
  {
   "cell_type": "markdown",
   "id": "716c05ad",
   "metadata": {},
   "source": [
    "AnsQ.8: Mutable: Mutable data types are those whose values can be modified after creation. This means you can change, add, or remove elements without creating a new object. Mutable data types in Python include lists, dictionaries, and sets."
   ]
  },
  {
   "cell_type": "code",
   "execution_count": 6,
   "id": "f6732b06",
   "metadata": {},
   "outputs": [
    {
     "name": "stdout",
     "output_type": "stream",
     "text": [
      "[100, 3, 4]\n"
     ]
    }
   ],
   "source": [
    "#example of it :\n",
    "my_list = [1, 2, 3]\n",
    "my_list[0] = 100  # Modifying an element to it\n",
    "my_list.append(4)  # Adding an element to it\n",
    "my_list.remove(2)  # Removing an element to it\n",
    "print(my_list)"
   ]
  },
  {
   "cell_type": "markdown",
   "id": "3b3c5d72",
   "metadata": {},
   "source": [
    "Ans.Q8: Immutable: Immutable data types are those whose values cannot be changed after its creation. If you attempt to modify an immutable object, Python will create a new object with the modified value. Immutable data types in Python include integers, floats, strings, tuples."
   ]
  },
  {
   "cell_type": "code",
   "execution_count": 7,
   "id": "ddcfd4f8",
   "metadata": {},
   "outputs": [
    {
     "ename": "TypeError",
     "evalue": "'tuple' object does not support item assignment",
     "output_type": "error",
     "traceback": [
      "\u001b[1;31m---------------------------------------------------------------------------\u001b[0m",
      "\u001b[1;31mTypeError\u001b[0m                                 Traceback (most recent call last)",
      "Cell \u001b[1;32mIn[7], line 3\u001b[0m\n\u001b[0;32m      1\u001b[0m \u001b[38;5;66;03m#example of it :\u001b[39;00m\n\u001b[0;32m      2\u001b[0m my_tuple \u001b[38;5;241m=\u001b[39m (\u001b[38;5;241m1\u001b[39m, \u001b[38;5;241m2\u001b[39m, \u001b[38;5;241m3\u001b[39m)\n\u001b[1;32m----> 3\u001b[0m my_tuple[\u001b[38;5;241m0\u001b[39m] \u001b[38;5;241m=\u001b[39m \u001b[38;5;241m100\u001b[39m  \n\u001b[0;32m      4\u001b[0m \u001b[38;5;28mprint\u001b[39m(my_tuple)\n",
      "\u001b[1;31mTypeError\u001b[0m: 'tuple' object does not support item assignment"
     ]
    }
   ],
   "source": [
    "#example of it :\n",
    "my_tuple = (1, 2, 3)\n",
    "my_tuple[0] = 100  \n",
    "print(my_tuple) #TypeError: 'tuple' object does not support item assignment"
   ]
  },
  {
   "cell_type": "markdown",
   "id": "cdbec6e3",
   "metadata": {},
   "source": [
    "Q.9. Write a code to create the given structure using only for loop.\n",
    "        *\n",
    "       ***\n",
    "      *****\n",
    "     *******\n",
    "    *********"
   ]
  },
  {
   "cell_type": "code",
   "execution_count": 9,
   "id": "9a6e10ee",
   "metadata": {},
   "outputs": [
    {
     "name": "stdout",
     "output_type": "stream",
     "text": [
      "    *\n",
      "   ***\n",
      "  *****\n",
      " *******\n",
      "*********\n"
     ]
    }
   ],
   "source": [
    "#Ans:Q.9\n",
    "# Number of line\n",
    "num_lines = 5\n",
    "\n",
    "# Outer loop to iterate through each line.\n",
    "for i in range(1, num_lines + 1):\n",
    "# Print spaces before asterisks.\n",
    "    for _ in range(num_lines - i):\n",
    "        print(\" \", end=\"\")\n",
    "# Print asterisks for the current line.\n",
    "    for _ in range(2*i - 1):\n",
    "        print(\"*\", end=\"\")\n",
    "# Move to the next line after printing the asterisks.\n",
    "    print()\n"
   ]
  },
  {
   "cell_type": "markdown",
   "id": "22f10b2b",
   "metadata": {},
   "source": [
    "Q.10. Write a code to create the given structure using while loop.\n",
    "         |||||||||\n",
    "          |||||||\n",
    "           |||||\n",
    "            |||\n",
    "             |"
   ]
  },
  {
   "cell_type": "code",
   "execution_count": 11,
   "id": "986d30fe",
   "metadata": {},
   "outputs": [
    {
     "name": "stdout",
     "output_type": "stream",
     "text": [
      "|||||||||\n",
      " |||||||\n",
      "  |||||\n",
      "   |||\n",
      "    |\n"
     ]
    }
   ],
   "source": [
    "#Ans Q.10:\n",
    "# Number of lines in the structure\n",
    "num_lines = 5\n",
    "i = 0\n",
    "\n",
    "# while loop to iterate through each line\n",
    "while i < num_lines:\n",
    "# Print spaces before the '|' characters\n",
    "    j = 0\n",
    "    while j < i:\n",
    "        print(\" \", end=\"\")\n",
    "        j += 1\n",
    "# Print '|' characters for the present line\n",
    "    j = 0\n",
    "    while j < (num_lines - i) * 2 - 1:\n",
    "        print(\"|\", end=\"\")\n",
    "        j += 1\n",
    "# Move to the next line after printing the '|' characters for the present line\n",
    "    print()\n",
    "    i += 1\n"
   ]
  },
  {
   "cell_type": "code",
   "execution_count": null,
   "id": "2296f16c",
   "metadata": {},
   "outputs": [],
   "source": []
  }
 ],
 "metadata": {
  "kernelspec": {
   "display_name": "Python 3 (ipykernel)",
   "language": "python",
   "name": "python3"
  },
  "language_info": {
   "codemirror_mode": {
    "name": "ipython",
    "version": 3
   },
   "file_extension": ".py",
   "mimetype": "text/x-python",
   "name": "python",
   "nbconvert_exporter": "python",
   "pygments_lexer": "ipython3",
   "version": "3.11.5"
  }
 },
 "nbformat": 4,
 "nbformat_minor": 5
}
